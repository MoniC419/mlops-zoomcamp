{
 "cells": [
  {
   "cell_type": "code",
   "execution_count": 1,
   "id": "2e693965-fb99-4f5a-8fc2-f96fc8e53b10",
   "metadata": {},
   "outputs": [
    {
     "name": "stdout",
     "output_type": "stream",
     "text": [
      "Python 3.12.7\n"
     ]
    }
   ],
   "source": [
    "!python -V"
   ]
  },
  {
   "cell_type": "code",
   "execution_count": 1,
   "id": "eb823480-411c-496c-be4a-14434f4e81dc",
   "metadata": {},
   "outputs": [],
   "source": [
    "import pandas as pd\n",
    "import seaborn as sns\n",
    "import matplotlib.pyplot as plt\n",
    "from sklearn.feature_extraction import DictVectorizer\n",
    "from sklearn.linear_model import LogisticRegression\n",
    "from sklearn.linear_model import LinearRegression\n",
    "from sklearn.linear_model import Lasso\n",
    "from sklearn.linear_model import Ridge\n",
    "from sklearn.metrics import mean_squared_error\n",
    "from sklearn.metrics import root_mean_squared_error\n",
    "import pickle"
   ]
  },
  {
   "cell_type": "code",
   "execution_count": 2,
   "id": "e9837082-c09f-4b05-8071-80f34cdf2871",
   "metadata": {},
   "outputs": [],
   "source": [
    "# compile to a function -- read the data\n",
    "\n",
    "def read_dataframe(filename):\n",
    "    df = pd.read_parquet(filename)\n",
    "    df['diff'] = df.lpep_dropoff_datetime -df.lpep_pickup_datetime\n",
    "    df['duration'] = df['diff'].dt.total_seconds()/60\n",
    "    df = df[(df.duration >=1)&(df.duration <=60)]\n",
    "    categorical = ['PULocationID','DOLocationID'] # pick the categorical features that might be useful to predict duration\n",
    "    df[categorical] = df[categorical].astype('str')\n",
    "    return df"
   ]
  },
  {
   "cell_type": "code",
   "execution_count": 3,
   "id": "bed37966-fc6b-468a-84e3-0536fd923182",
   "metadata": {},
   "outputs": [],
   "source": [
    "df_train = read_dataframe(\"data/green_tripdata_2021-01.parquet\")\n",
    "df_val = read_dataframe(\"data/green_tripdata_2021-02.parquet\")"
   ]
  },
  {
   "cell_type": "code",
   "execution_count": 4,
   "id": "b3428854-922f-404e-ab71-8256f5588084",
   "metadata": {},
   "outputs": [
    {
     "data": {
      "text/plain": [
       "(73908, 61921)"
      ]
     },
     "execution_count": 4,
     "metadata": {},
     "output_type": "execute_result"
    }
   ],
   "source": [
    "len(df_train), len(df_val)"
   ]
  },
  {
   "cell_type": "code",
   "execution_count": 10,
   "id": "203439b2-7967-493b-b995-d4f2bae9c675",
   "metadata": {},
   "outputs": [],
   "source": [
    "# exploring new features to better predict the duration\n",
    "# e.g. pickup-dropoff pair\n",
    "df_train['PU_DO'] = df_train['PULocationID'] + '_'+ df_train['DOLocationID']\n",
    "df_val['PU_DO'] = df_val['PULocationID'] + '_'+ df_val['DOLocationID']"
   ]
  },
  {
   "cell_type": "code",
   "execution_count": 11,
   "id": "0846fa27-63e9-477b-9557-8eab50db9825",
   "metadata": {},
   "outputs": [],
   "source": [
    "categorical = ['PU_DO'] # ['PULocationID','DOLocationID'] \n",
    "numerical = ['trip_distance']\n",
    "\n",
    "dv = DictVectorizer()\n",
    "\n",
    "train_dicts = df_train[categorical+numerical].to_dict(orient='records')\n",
    "X_train = dv.fit_transform(train_dicts) \n",
    "\n",
    "val_dicts = df_val[categorical+numerical].to_dict(orient='records')\n",
    "X_val = dv.transform(val_dicts) # for validation we don't run fit_transform"
   ]
  },
  {
   "cell_type": "code",
   "execution_count": 6,
   "id": "c5d74cb2-36c9-465d-a0d6-267cbc57779d",
   "metadata": {},
   "outputs": [],
   "source": [
    "target ='duration'\n",
    "y_train = df_train[target].values\n",
    "y_val = df_val[target].values"
   ]
  },
  {
   "cell_type": "code",
   "execution_count": 12,
   "id": "d0a6770e-aed1-4b3b-accc-80de981947b1",
   "metadata": {},
   "outputs": [
    {
     "data": {
      "text/plain": [
       "7.758715209663881"
      ]
     },
     "execution_count": 12,
     "metadata": {},
     "output_type": "execute_result"
    }
   ],
   "source": [
    "lr = LinearRegression() # create an instance/object\n",
    "lr.fit(X_train, y_train)\n",
    "\n",
    "y_val_pred = lr.predict(X_val) # apply the model trained on train-set on the validation set\n",
    "\n",
    "root_mean_squared_error(y_val, y_val_pred)"
   ]
  },
  {
   "cell_type": "code",
   "execution_count": 13,
   "id": "8b9af4a2-8e66-43a7-98f5-737e7fb7e133",
   "metadata": {},
   "outputs": [
    {
     "name": "stdout",
     "output_type": "stream",
     "text": [
      "Training RMSE is 11.562050466293025\n",
      "Validation RMSE is 12.212583224318818\n"
     ]
    }
   ],
   "source": [
    "# baseline -- linear regression\n",
    "# then try Lasso\n",
    "\n",
    "ls = Lasso()\n",
    "# ls = Lasso(alpha = 0.01) # adjust alpha to see fitting performance\n",
    "ls.fit(X_train, y_train)\n",
    "\n",
    "y_pred = ls.predict(X_train)\n",
    "y_val_pred = ls.predict(X_val)\n",
    "\n",
    "print('Training RMSE is', root_mean_squared_error(y_train, y_pred))\n",
    "print('Validation RMSE is', root_mean_squared_error(y_val, y_val_pred))"
   ]
  },
  {
   "cell_type": "code",
   "execution_count": 14,
   "id": "59c55243-4621-465a-a6bb-95a1be17d4a6",
   "metadata": {},
   "outputs": [
    {
     "name": "stdout",
     "output_type": "stream",
     "text": [
      "Training RMSE is 7.6660279773989375\n",
      "Validation RMSE is 8.846837413677452\n"
     ]
    }
   ],
   "source": [
    "# try Ridge\n",
    "rd = Ridge(alpha=10)\n",
    "\n",
    "rd.fit(X_train, y_train)\n",
    "\n",
    "y_pred = rd.predict(X_train)\n",
    "y_val_pred = rd.predict(X_val)\n",
    "\n",
    "print('Training RMSE is', root_mean_squared_error(y_train, y_pred))\n",
    "print('Validation RMSE is', root_mean_squared_error(y_val, y_val_pred))"
   ]
  },
  {
   "cell_type": "markdown",
   "id": "32a2a28a-723e-46ad-8044-fe08a4971dd9",
   "metadata": {},
   "source": [
    "#### suppose we want to keep the linear regression (baseline) model"
   ]
  },
  {
   "cell_type": "code",
   "execution_count": 16,
   "id": "b3d819c8-c444-43bf-b132-8bcf1f2c0430",
   "metadata": {},
   "outputs": [],
   "source": [
    "with open('models/lin_reg.bin', 'wb') as f_out: # mode = 'wb' (write binary)\n",
    "    pickle.dump((dv, lr), f_out) "
   ]
  }
 ],
 "metadata": {
  "kernelspec": {
   "display_name": "Python 3 (ipykernel)",
   "language": "python",
   "name": "python3"
  },
  "language_info": {
   "codemirror_mode": {
    "name": "ipython",
    "version": 3
   },
   "file_extension": ".py",
   "mimetype": "text/x-python",
   "name": "python",
   "nbconvert_exporter": "python",
   "pygments_lexer": "ipython3",
   "version": "3.12.7"
  }
 },
 "nbformat": 4,
 "nbformat_minor": 5
}
