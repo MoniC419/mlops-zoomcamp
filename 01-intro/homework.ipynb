{
 "cells": [
  {
   "cell_type": "code",
   "execution_count": 2,
   "id": "52d81e68-9ede-42f5-9c21-9e6308a168bd",
   "metadata": {},
   "outputs": [],
   "source": [
    "import pandas as pd\n",
    "import numpy as np\n",
    "import sklearn"
   ]
  },
  {
   "cell_type": "code",
   "execution_count": 3,
   "id": "fd1cb1fa-e3b8-4f6b-8e00-e0196c0f1f95",
   "metadata": {},
   "outputs": [],
   "source": [
    "df = pd.read_parquet('https://d37ci6vzurychx.cloudfront.net/trip-data/yellow_tripdata_2024-01.parquet')"
   ]
  },
  {
   "cell_type": "markdown",
   "id": "d7ace42a-7978-42c3-8e1e-9761dc5a20fc",
   "metadata": {},
   "source": [
    "#### Q1 dowloading the data. Read the data from January. How many columns are there"
   ]
  },
  {
   "cell_type": "code",
   "execution_count": 4,
   "id": "15c6febe-d288-41ad-af3a-3dc976331a93",
   "metadata": {},
   "outputs": [
    {
     "name": "stdout",
     "output_type": "stream",
     "text": [
      "there are 19 columns in the file\n"
     ]
    }
   ],
   "source": [
    "print('there are', df.shape[1], 'columns in the file')"
   ]
  },
  {
   "cell_type": "markdown",
   "id": "e9412c23-cb28-4e3b-98fc-c1bcaef8b6a2",
   "metadata": {},
   "source": [
    "#### Q2 Computing duration, which is the duration of a ride in minutes. what's the standard deviation of the trips duration in Jan"
   ]
  },
  {
   "cell_type": "code",
   "execution_count": 5,
   "id": "0ceea62a-a455-4b0d-ab7a-5877c75cae4e",
   "metadata": {},
   "outputs": [
    {
     "name": "stdout",
     "output_type": "stream",
     "text": [
      "<PeriodArray>\n",
      "['2024-01', '2023-12', '2009-01', '2002-12', '2024-02']\n",
      "Length: 5, dtype: period[M]\n",
      "\n",
      "\n",
      "<PeriodArray>\n",
      "['2024-01', '2023-12', '2009-01', '2002-12', '2024-02']\n",
      "Length: 5, dtype: period[M]\n"
     ]
    }
   ],
   "source": [
    "print(df.tpep_dropoff_datetime.dt.to_period('M').unique())\n",
    "print('\\n')\n",
    "print(df.tpep_pickup_datetime.dt.to_period('M').unique())"
   ]
  },
  {
   "cell_type": "code",
   "execution_count": 6,
   "id": "a7aa4c56-c4f6-42b7-b04a-a9fecbd6c6cd",
   "metadata": {},
   "outputs": [],
   "source": [
    "# from multiple years\n",
    "# calculate the std. for all available records regardless of years and months\n",
    "df['duration'] =  df['tpep_dropoff_datetime'] - df['tpep_pickup_datetime']\n",
    "df['duration_minutes'] = df['duration'].dt.total_seconds()/60"
   ]
  },
  {
   "cell_type": "code",
   "execution_count": 7,
   "id": "450c0ff0-98fb-47dd-a388-db22d45bf1c0",
   "metadata": {},
   "outputs": [
    {
     "name": "stdout",
     "output_type": "stream",
     "text": [
      "<class 'pandas.core.series.Series'>\n",
      "RangeIndex: 2964624 entries, 0 to 2964623\n",
      "Series name: duration_minutes\n",
      "Non-Null Count    Dtype  \n",
      "--------------    -----  \n",
      "2964624 non-null  float64\n",
      "dtypes: float64(1)\n",
      "memory usage: 22.6 MB\n",
      "None\n",
      "\n",
      "\n",
      "count    2.964624e+06\n",
      "mean     1.561295e+01\n",
      "std      3.485105e+01\n",
      "min     -1.356667e+01\n",
      "25%      7.150000e+00\n",
      "50%      1.163333e+01\n",
      "75%      1.868333e+01\n",
      "max      9.455400e+03\n",
      "Name: duration_minutes, dtype: float64\n",
      "\n",
      "\n",
      "standard deviation is 34.851053592192876\n"
     ]
    }
   ],
   "source": [
    "# check the new var. duration_minutes\n",
    "print(df['duration_minutes'].info())\n",
    "print('\\n')\n",
    "print(df['duration_minutes'].describe())\n",
    "print('\\n')\n",
    "print('standard deviation is', df['duration_minutes'].std())"
   ]
  },
  {
   "cell_type": "code",
   "execution_count": null,
   "id": "4418582c-724c-4691-9186-fffad12bbe72",
   "metadata": {},
   "outputs": [],
   "source": [
    "# no missing/null instances --> good, no need to fillna\n",
    "# min is negative --> drop-off happens before pick-up, which is impossible --> outliers \n",
    "# for now std is 34.85 (?? not any of the choices)"
   ]
  },
  {
   "cell_type": "code",
   "execution_count": 8,
   "id": "fddbe2d2-99a4-4884-8fe7-2a0bd5bcfd9c",
   "metadata": {},
   "outputs": [
    {
     "name": "stdout",
     "output_type": "stream",
     "text": [
      "count    2.964616e+06\n",
      "mean     1.561297e+01\n",
      "std      3.485110e+01\n",
      "min     -1.356667e+01\n",
      "25%      7.150000e+00\n",
      "50%      1.163333e+01\n",
      "75%      1.868333e+01\n",
      "max      9.455400e+03\n",
      "Name: duration_minutes, dtype: float64\n",
      "\n",
      "\n",
      "standard deviation is 34.85109769959988\n"
     ]
    }
   ],
   "source": [
    "# filter to keep Jan records (from any years)\n",
    "df_jan = df[(df['tpep_dropoff_datetime'].dt.month==1)|(df['tpep_pickup_datetime'].dt.month==1)]\n",
    "\n",
    "print(df_jan['duration_minutes'].describe())\n",
    "print('\\n')\n",
    "print('standard deviation is', df_jan['duration_minutes'].std())"
   ]
  },
  {
   "cell_type": "code",
   "execution_count": 9,
   "id": "7052ce7f-d1c3-4231-a23a-29a70e0f49f1",
   "metadata": {},
   "outputs": [
    {
     "data": {
      "text/plain": [
       "34.851347907077844"
      ]
     },
     "execution_count": 9,
     "metadata": {},
     "output_type": "execute_result"
    }
   ],
   "source": [
    "# remove the negative ones and check the stdev again\n",
    "df_jan[df_jan.duration_minutes >=0].duration_minutes.std()"
   ]
  },
  {
   "cell_type": "markdown",
   "id": "6f1e54e0-af4d-47a8-91c0-a66a30f05faf",
   "metadata": {},
   "source": [
    "#### Q3 Dropping outliers -- keep only the records where the duration was between 1 and 60 minutes (inclusive)"
   ]
  },
  {
   "cell_type": "code",
   "execution_count": 10,
   "id": "66a9fcac-f58c-43d9-b4da-2254726fd783",
   "metadata": {},
   "outputs": [
    {
     "name": "stdout",
     "output_type": "stream",
     "text": [
      "the fraction/percentage of records left is 98.0 %\n"
     ]
    }
   ],
   "source": [
    "# if dropping happens to the original data set\n",
    "df_filtered = df[(df['duration_minutes']>=1)&(df['duration_minutes']<=60)]\n",
    "print('the fraction/percentage of records left is', round((df_filtered.shape[0]/df.shape[0])*100,0), '%')"
   ]
  },
  {
   "cell_type": "code",
   "execution_count": 11,
   "id": "36cb81e3-0405-48a3-a276-6a189d90c792",
   "metadata": {},
   "outputs": [
    {
     "name": "stdout",
     "output_type": "stream",
     "text": [
      "the fraction/percentage of records left is 98.0 %\n"
     ]
    }
   ],
   "source": [
    "# if dropping happens to the january data set\n",
    "df_jan_filtered = df_jan[(df_jan['duration_minutes']>=1)&(df_jan['duration_minutes']<=60)]\n",
    "print('the fraction/percentage of records left is', round((df_jan_filtered.shape[0]/df_jan.shape[0])*100,0), '%')"
   ]
  },
  {
   "cell_type": "markdown",
   "id": "534a8fed-2c31-4b94-946c-7766a8646824",
   "metadata": {},
   "source": [
    "#### Q4 one-hot encoding"
   ]
  },
  {
   "cell_type": "code",
   "execution_count": 12,
   "id": "fb90224b-3e66-444d-871e-af626e3e3def",
   "metadata": {},
   "outputs": [
    {
     "data": {
      "text/plain": [
       "['VendorID', 'RatecodeID', 'PULocationID', 'DOLocationID']"
      ]
     },
     "execution_count": 12,
     "metadata": {},
     "output_type": "execute_result"
    }
   ],
   "source": [
    "df_ids = [col for col in df.columns if any(keyword in col for keyword in ['ID','id','Id'])]\n",
    "df_ids"
   ]
  },
  {
   "cell_type": "code",
   "execution_count": 13,
   "id": "d52fdd0d-0e9c-4ed1-bacc-c0e7cae54788",
   "metadata": {},
   "outputs": [],
   "source": [
    "df = df_jan_filtered.copy()"
   ]
  },
  {
   "cell_type": "code",
   "execution_count": 14,
   "id": "5ebb0358-266e-498a-b87d-df313ed7415d",
   "metadata": {},
   "outputs": [
    {
     "name": "stdout",
     "output_type": "stream",
     "text": [
      "<class 'pandas.core.frame.DataFrame'>\n",
      "Index: 2898898 entries, 0 to 2964623\n",
      "Data columns (total 4 columns):\n",
      " #   Column        Dtype  \n",
      "---  ------        -----  \n",
      " 0   VendorID      int32  \n",
      " 1   RatecodeID    float64\n",
      " 2   PULocationID  int32  \n",
      " 3   DOLocationID  int32  \n",
      "dtypes: float64(1), int32(3)\n",
      "memory usage: 77.4 MB\n"
     ]
    }
   ],
   "source": [
    "df[df_ids].info()"
   ]
  },
  {
   "cell_type": "code",
   "execution_count": 15,
   "id": "d8407537-1d49-48ef-9fb2-c5ab0c50dcb6",
   "metadata": {},
   "outputs": [],
   "source": [
    "# convert PULocationID & DOLocationID to string\n",
    "df[['PULocationID', 'DOLocationID']] = df[['PULocationID', 'DOLocationID']].astype('str')"
   ]
  },
  {
   "cell_type": "code",
   "execution_count": 20,
   "id": "4554aef3-0143-4c7c-b54b-f251f369ccfe",
   "metadata": {},
   "outputs": [],
   "source": [
    "# convert to list of dictionaries (orient = 'records')\n",
    "data_dict = df[['PULocationID', 'DOLocationID']].to_dict(orient='records')"
   ]
  },
  {
   "cell_type": "code",
   "execution_count": 22,
   "id": "f5ac3a7f-6c2c-4c7c-a254-18fdae5896ab",
   "metadata": {},
   "outputs": [],
   "source": [
    "from sklearn.feature_extraction import DictVectorizer\n",
    "# Initialize and fit DictVectorizer\n",
    "vectorizer = DictVectorizer()\n",
    "feature_matrix = vectorizer.fit_transform(data_dict)"
   ]
  },
  {
   "cell_type": "code",
   "execution_count": 23,
   "id": "c87a41af-a794-47a4-9dbf-81da50580f37",
   "metadata": {},
   "outputs": [
    {
     "name": "stdout",
     "output_type": "stream",
     "text": [
      "the dimensionality (number of columns) is 518\n"
     ]
    }
   ],
   "source": [
    "print('the dimensionality (number of columns) is',feature_matrix.shape[1])"
   ]
  },
  {
   "cell_type": "code",
   "execution_count": 24,
   "id": "a9e42787-b842-4ebf-ac42-293c4c3a20e8",
   "metadata": {},
   "outputs": [
    {
     "data": {
      "text/plain": [
       "(2898898, 518)"
      ]
     },
     "execution_count": 24,
     "metadata": {},
     "output_type": "execute_result"
    }
   ],
   "source": [
    "feature_matrix.shape"
   ]
  },
  {
   "cell_type": "markdown",
   "id": "443e7402-69c5-4551-94c8-cd87628341b3",
   "metadata": {},
   "source": [
    "#### Q5 Trainig a model"
   ]
  },
  {
   "cell_type": "code",
   "execution_count": null,
   "id": "76b44a6d-b051-461e-a823-3e58dd06215c",
   "metadata": {},
   "outputs": [],
   "source": []
  }
 ],
 "metadata": {
  "kernelspec": {
   "display_name": "Python 3 (ipykernel)",
   "language": "python",
   "name": "python3"
  },
  "language_info": {
   "codemirror_mode": {
    "name": "ipython",
    "version": 3
   },
   "file_extension": ".py",
   "mimetype": "text/x-python",
   "name": "python",
   "nbconvert_exporter": "python",
   "pygments_lexer": "ipython3",
   "version": "3.12.7"
  }
 },
 "nbformat": 4,
 "nbformat_minor": 5
}
